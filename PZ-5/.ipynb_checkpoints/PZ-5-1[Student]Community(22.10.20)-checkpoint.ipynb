{
 "cells": [
  {
   "cell_type": "markdown",
   "metadata": {},
   "source": [
    "# PZ-5.1_Community\n"
   ]
  },
  {
   "cell_type": "markdown",
   "metadata": {},
   "source": [
    "## 1. Изучение функций модуля NetworkX, создающих графовые модели сообществ.\n",
    "## 2. Изучение функций модуля NetworkX, реализующих алгоритмы выделения сообществ."
   ]
  },
  {
   "cell_type": "markdown",
   "metadata": {},
   "source": [
    "## Задание для подготовки к ПЗ-5.1:\n",
    "1. Написать функции, указанные в п. 1.3.\n",
    "2. Ознакомиться с функциями, указанными в п.п. 1.1, 1.2, 2, 3."
   ]
  },
  {
   "cell_type": "markdown",
   "metadata": {},
   "source": [
    "## Логика поиска сообществ в социальной сети\n",
    "- граф связный? Компоненты связности - кандидаты на сообщества\n",
    "- связная компонента - какой граф (простой, ориентированный, двудольный)\n",
    "- подбор алгоритма выделения сообществ\n",
    "- оценка качества выделения"
   ]
  },
  {
   "cell_type": "markdown",
   "metadata": {},
   "source": [
    "#  1. Вспомогательные функции \n",
    "### 1.1. Оценка связности исходного графа и выделения связных компонент (3.15.1 Connectivity)\n",
    "- is_connected \n",
    "- number_connected_components \n",
    "- connected_components \n",
    "- connected_component_subgraphs \n",
    "- node_connected_component \n",
    "\n",
    "### 1.2. Оценка качества разделения графа на сообщества (3.14.6 Measuring partitions)\n",
    "- coverage\n",
    "- performance\n",
    "\n",
    "### 1.3. Визуализация ( функции должны быть написаны к PZ-5)\n",
    "- визуализация исходного графа (параметры - тип раскладки узлов, размер рисунка)\n",
    "- визуализация результатов разбиения графа на сообщества:\n",
    "\n",
    "  - справочные данные по каждому сообществу (количество вершин, список вершин, качество разбиения)\n",
    "  - узлы каждого сообщества имеют уникальный цвет)"
   ]
  },
  {
   "cell_type": "markdown",
   "metadata": {},
   "source": [
    "# 2. Функции, создающие графовые модели сообществ\n",
    "- 5.18.1 caveman_graph\n",
    "- 5.18.2 connected_caveman_graph\n",
    "- 5.18.7 relaxed_caveman_graph\n",
    "- 5.18.3 gaussian_random_partition_graph\n",
    "- 5.18.5 planted_partition_graph\n",
    "- 5.18.6 random_partition_graph\n",
    "- 5.18.8 ring_of_cliques\n",
    "- 5.18.10 windmill_graph\n",
    "- 5.17.1 karate_club_graph\n",
    "- 5.17.3 florentine_families_graph"
   ]
  },
  {
   "cell_type": "markdown",
   "metadata": {},
   "source": [
    "# 3. Функции, реализующие алгоритмы выделения сообществ\n",
    "- Алгоритм Кернигана-Лина (3.14.1 Bipartitions)\n",
    "- Алгоритм Клаузета-Ньюмана-Мура (3.14.3 greedy_modularity_communities)\n",
    "- Алгоритмы распространения меток (3.14.4 Label propagation:\n",
    "      asyn_lpa_communities, label_propagation_communities)\n",
    "- Алгоритм Fluid Communities (3.14.5 asyn_fluidc)\n",
    "- Алгоритм Гирмана-Ньюмена (3.14.7 girvan_newman)"
   ]
  }
 ],
 "metadata": {
  "kernelspec": {
   "display_name": "Python 3",
   "language": "python",
   "name": "python3"
  },
  "language_info": {
   "codemirror_mode": {
    "name": "ipython",
    "version": 3
   },
   "file_extension": ".py",
   "mimetype": "text/x-python",
   "name": "python",
   "nbconvert_exporter": "python",
   "pygments_lexer": "ipython3",
   "version": "3.6.5"
  }
 },
 "nbformat": 4,
 "nbformat_minor": 2
}
