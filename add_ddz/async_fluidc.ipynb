{
 "cells": [
  {
   "cell_type": "markdown",
   "metadata": {},
   "source": [
    "# Краткое описание\n",
    "\n",
    "Рассмотрим интересный и достаточно интуитивный алгоритм поиска кластеров в графе. Идея основана на плохой сжимаемости жидкости. Для продолжения советуем ознакомиться со статьей, лежащей в этой же папке."
   ]
  },
  {
   "cell_type": "markdown",
   "metadata": {},
   "source": [
    "Данный алгоритм отлично подходит для смешанных сообществ. К сожалению на данный момент он реализован только для неорентированных графов. Сам по себе алгоритм явлется вероятностным, поэтому при нескольких запусках разбиения могут отличаться."
   ]
  },
  {
   "cell_type": "markdown",
   "metadata": {},
   "source": [
    "#### Плюсы алгоритма\n",
    "\n",
    "- точное количество задаваемых сообществ\n",
    "- вероятностный характер (вариативность решений) \n",
    "- очень низкая вычислительная сложность - O(E)\n",
    "- простая интерпретация\n",
    "- очень хорошо работает для смешанных сообществ\n",
    "\n",
    "#### Минусы алгоритма\n",
    "\n",
    "- не учитывает веса\n",
    "- не реализован для ориентированных графов\n",
    "- плохо работает для явно-выраженных сообществ с малым количеством связей между сообществами\n",
    "\n",
    "#### Краткие выводы\n",
    "\n",
    "Алгоритм просто превосходный. Такая низкая вычислительная сложность позволяет использовать его на графах любого размера. Рекомендуется к использованию при условии неорентированного, смешанного графа. Плохуй работу на явно-выраженных сообществах можно объяснить с помощью физической интерпетации алгоритма. Жидкость быстро занимает кластер и впоследствии выдавить ее через малое количество ребер практически невозможно."
   ]
  },
  {
   "cell_type": "markdown",
   "metadata": {},
   "source": [
    "Кратко рассмотрим реализацию алгоритма в библиотеке networkx.\n",
    "\n",
    "networkx.algorithms.community.asyn_fluid.asyn_fluidc\n",
    "\n",
    "*asyn_fluidc(G: Graph, k: integer, max_iter: integer =100, seed: integer, random_state, None =None) -> iterable*\n",
    "\n",
    "- k - количетсво сообществ\n",
    "- max_iter - максимальное количество итераций\n",
    "- seed - индикатор для генерации случайного начального состояния\n",
    "- iterable - сообщества, заданные как наборы узлов\n",
    "\n",
    "https://networkx.org/documentation/stable/reference/algorithms/generated/networkx.algorithms.community.asyn_fluid.asyn_fluidc.html#networkx.algorithms.community.asyn_fluid.asyn_fluidc"
   ]
  },
  {
   "cell_type": "code",
   "execution_count": 4,
   "metadata": {},
   "outputs": [],
   "source": [
    "from networkx.algorithms import community as cm\n",
    "import networkx as nx\n",
    "from matplotlib import pyplot as plt\n",
    "import igraph as ig\n",
    "import random as r\n",
    "from networkx.generators.community import ring_of_cliques"
   ]
  },
  {
   "cell_type": "code",
   "execution_count": 5,
   "metadata": {
    "code_folding": [
     0,
     13
    ]
   },
   "outputs": [],
   "source": [
    "def painter(T, result):\n",
    "    color_list = get_color(len(result))\n",
    "    color_map = list()\n",
    "    buff = T.nodes()\n",
    "    for node in buff:\n",
    "        for index in range(len(result)):  \n",
    "            if node in result[index]:  \n",
    "                color_map.append(color_list[index])\n",
    "    plot_graph(T, node_color=color_map)\n",
    "\n",
    "def get_color(count):\n",
    "    return [(r.random(), r.random(), r.random(),) for _ in range(count)]\n",
    "\n",
    "def plot_graph(G, draw_type=None, weight_name=None, node_color='#1f78b4'):\n",
    "    pos = nx.spring_layout(G)\n",
    "    edges = G.edges()\n",
    "    weights = None\n",
    "    \n",
    "    if weight_name:\n",
    "        weights = [int(G[u][v][weight_name]) for u,v in edges]\n",
    "        labels = nx.get_edge_attributes(G,weight_name)\n",
    "        nx.draw_networkx_edge_labels(G,pos,edge_labels=labels)\n",
    "        nx.draw_networkx(G, pos, width=weights);\n",
    "    else:\n",
    "        if draw_type == \"circular\":\n",
    "            nx.draw_circular(G, node_color=node_color)\n",
    "        elif draw_type == \"random\":\n",
    "            nx.draw_random(G, node_color=node_color)\n",
    "        elif draw_type == \"spectral\":\n",
    "            nx.draw_spectral(G, node_color=node_color)\n",
    "        elif draw_type == \"spring\":\n",
    "            nx.draw_spring(G, node_color=node_color)\n",
    "        else:\n",
    "            nx.draw(G, with_labels=True, node_color=node_color)\n",
    "    plt.show()"
   ]
  },
  {
   "cell_type": "markdown",
   "metadata": {},
   "source": [
    "Покажем, что данный алгоритм хорошо работает именно для смешанных сообществ, добавляя на каждой итерации по несколько ребер."
   ]
  },
  {
   "cell_type": "code",
   "execution_count": null,
   "metadata": {},
   "outputs": [],
   "source": [
    "G = ig.read(\"ig_test_graph_2.gml\")\n",
    "B = nx.Graph(G.get_edgelist())\n",
    "\n",
    "count = 3\n",
    "for _ in range(100):\n",
    "    F = cm.asyn_fluidc(B, 6, 500)\n",
    "    print(f'Nodes: {len(B.nodes())}')\n",
    "    print(f'Edges: {len(B.edges())}')\n",
    "    node_1 = r.sample(B.nodes(), count)\n",
    "    node_2 = r.sample(B.nodes(), count)\n",
    "    for counter in range(count):\n",
    "        B.add_edge(node_1[counter], node_2[counter])\n",
    "    x = [y for y in F]\n",
    "    painter(B, x)"
   ]
  },
  {
   "cell_type": "markdown",
   "metadata": {},
   "source": [
    "Ради интереса убедимся, что алгоритм по сути своей - поведение жидкости или газа в замкнутой области. Прекрасно видно что на кольце происходит физическое явление - диффузия."
   ]
  },
  {
   "cell_type": "code",
   "execution_count": null,
   "metadata": {},
   "outputs": [],
   "source": [
    "Z = nx.complete_graph(100)\n",
    "for counter in range(1, 21):\n",
    "    F = cm.asyn_fluidc(Z, counter)\n",
    "    painter(Z, [y for y in F])"
   ]
  }
 ],
 "metadata": {
  "kernelspec": {
   "display_name": "Python 3",
   "language": "python",
   "name": "python3"
  },
  "language_info": {
   "codemirror_mode": {
    "name": "ipython",
    "version": 3
   },
   "file_extension": ".py",
   "mimetype": "text/x-python",
   "name": "python",
   "nbconvert_exporter": "python",
   "pygments_lexer": "ipython3",
   "version": "3.8.2"
  }
 },
 "nbformat": 4,
 "nbformat_minor": 2
}
