{
 "cells": [
  {
   "cell_type": "markdown",
   "metadata": {},
   "source": [
    "<h1 align=\"center\"> Анализ социальных сетей </h1>"
   ]
  },
  {
   "cell_type": "markdown",
   "metadata": {},
   "source": [
    "# PZ-4.2. Метрики центральности узлов сети"
   ]
  },
  {
   "cell_type": "markdown",
   "metadata": {},
   "source": [
    "## Задачи\n",
    "Применить различные меры центральности узлов для исследования сетей:\n",
    "- сеть дружеских отношений\n",
    "- сеть политических блогов"
   ]
  },
  {
   "cell_type": "code",
   "execution_count": 2,
   "metadata": {},
   "outputs": [],
   "source": [
    "import networkx as nx\n",
    "from networkx.algorithms.centrality import degree_centrality as dc\n",
    "from networkx.algorithms.centrality import closeness_centrality as cc\n",
    "from networkx.algorithms.centrality import betweenness_centrality as bc\n",
    "from networkx.algorithms.centrality import harmonic_centrality as hc"
   ]
  },
  {
   "cell_type": "code",
   "execution_count": null,
   "metadata": {},
   "outputs": [],
   "source": [
    "G1 = nx.read_gml('friendships.gml')"
   ]
  },
  {
   "cell_type": "markdown",
   "metadata": {},
   "source": [
    "## 1. Исследование сети дружеских отношений\n",
    "\n",
    "Сеть дружеских отношений на факультете университета представлена файлом friendships.gml. Узел соответствует человеку, ребро - дружеским отношениям.\n",
    "\n",
    "G1 = nx.read_gml('friendships.gml')\n"
   ]
  },
  {
   "cell_type": "markdown",
   "metadata": {},
   "source": [
    "### Задание 1\n",
    "Найти степень центральности, центральность по близости и нормированную центральность (исключая конечные точки) узла 100.\n",
    "\n",
    "Функция должна возвращать кортеж действительных чисел с точностью три знака после запятой `(degree_centrality, closeness_centrality, betweenness_centrality)`."
   ]
  },
  {
   "cell_type": "code",
   "execution_count": 33,
   "metadata": {},
   "outputs": [
    {
     "name": "stdout",
     "output_type": "stream",
     "text": [
      "degree_centrality 0.0026501766784452294\n",
      "closeness_centrality 0.2654784240150094\n",
      "betweenness_centrality 7.142902633244772e-05\n"
     ]
    }
   ],
   "source": [
    "answer_one = lambda G : (round(dc(G1)[100], 3), round(cc(G1)[100], 3), round(bc(G1)[100], 3),)\n",
    "\n",
    "print(f'degree_centrality {dc(G1)[100]}')\n",
    "print(f'closeness_centrality {cc(G1)[100]}')\n",
    "print(f'betweenness_centrality {bc(G1)[100]}')"
   ]
  },
  {
   "cell_type": "code",
   "execution_count": 27,
   "metadata": {},
   "outputs": [
    {
     "name": "stdout",
     "output_type": "stream",
     "text": [
      "(0, 0.265, 0.0)\n"
     ]
    }
   ],
   "source": [
    "print(answer_one(G1))"
   ]
  },
  {
   "cell_type": "markdown",
   "metadata": {},
   "source": [
    "### Ответ 1\n",
    "<img src=\"./pic/answ1.png\">"
   ]
  },
  {
   "cell_type": "markdown",
   "metadata": {},
   "source": [
    "#### Для заданий 1.2, 1.3 и 1.4 предположим, что Вы ничего не знаете о структуре сети, за исключением всех значений центральности узлов. То есть используйте одну из рассчитанных мер центральности, чтобы ранжировать узлы и найти наиболее подходящего кандидата."
   ]
  },
  {
   "cell_type": "markdown",
   "metadata": {},
   "source": [
    "## Задание 2"
   ]
  },
  {
   "cell_type": "markdown",
   "metadata": {},
   "source": [
    "Предположим, что вы работаете админом на сайте онлайн-покупок, и перед вами стоит задача выбрать одного пользователя в сети G1 для отправки ваучера. Мы ожидаем, что пользователь, получивший ваучер, отправит его своим друзьям в сети. Вы хотите, чтобы ваучер достиг максимально возможного количества узлов. Ваучер может быть переслан нескольким пользователям одновременно, но расстояние перемещения ваучера ограничено одним шагом, а это означает, что если ваучер перемещается более чем на один шаг в этой сети, он больше не действителен. Примените свои знания в области централизации сети, чтобы выбрать лучшего кандидата на ваучер.\n",
    "\n",
    "*Эта функция должна возвращать целое число, имя узла.*"
   ]
  },
  {
   "cell_type": "code",
   "execution_count": 4,
   "metadata": {},
   "outputs": [],
   "source": [
    "def answer_two():\n",
    "    max_val = max(dict(G1.degree()).values())\n",
    "    return [x[0] for x in dict(G1.degree()).items() if max_val == x[1]][0]"
   ]
  },
  {
   "cell_type": "code",
   "execution_count": 5,
   "metadata": {},
   "outputs": [
    {
     "data": {
      "text/plain": [
       "105"
      ]
     },
     "execution_count": 5,
     "metadata": {},
     "output_type": "execute_result"
    }
   ],
   "source": [
    "# Проверьте Ваш код\n",
    "answer_two()"
   ]
  },
  {
   "cell_type": "markdown",
   "metadata": {},
   "source": [
    "### Ответ 2\n",
    "<img src=\"./pic/answ2.png\">"
   ]
  },
  {
   "cell_type": "markdown",
   "metadata": {},
   "source": [
    "## Задание 3"
   ]
  },
  {
   "cell_type": "markdown",
   "metadata": {},
   "source": [
    "Теперь предел пройденного расстояния ваучера снят. Поскольку сеть связанна, независимо от того, кого вы выбрали, каждый узел в сети в конечном итоге получит ваучер. Однако теперь мы хотим убедиться, что ваучер достигает узлов за наименьшее среднее количество прыжков.\n",
    "\n",
    "Как бы вы изменили свою стратегию выбора? Напишите функцию, определяющую лучшего кандидата в сети при этом условии.\n",
    "\n",
    "*Эта функция должна возвращать целое число - имя узла.*"
   ]
  },
  {
   "cell_type": "code",
   "execution_count": 42,
   "metadata": {},
   "outputs": [],
   "source": [
    "def answer_three():\n",
    "    return list(sorted([(y[0], y[1],) for y in cc(G1).items()], key=lambda x: -x[1]))[0][0]"
   ]
  },
  {
   "cell_type": "code",
   "execution_count": 43,
   "metadata": {},
   "outputs": [
    {
     "data": {
      "text/plain": [
       "23"
      ]
     },
     "execution_count": 43,
     "metadata": {},
     "output_type": "execute_result"
    }
   ],
   "source": [
    "# Проверьте Ваш код\n",
    "answer_three()"
   ]
  },
  {
   "cell_type": "markdown",
   "metadata": {},
   "source": [
    "### Ответ 3\n",
    "<img src=\"./pic/answ3.png\">"
   ]
  },
  {
   "cell_type": "markdown",
   "metadata": {},
   "source": [
    "## Задание 4"
   ]
  },
  {
   "cell_type": "markdown",
   "metadata": {},
   "source": [
    "Предположим, что ограничение на расстояние прохождения ваучера по-прежнему снято, но теперь конкурент разработал стратегию удаления человека из сети, чтобы нарушить распространение ваучера вашей компании. Ваш конкурент специально нацелен на людей, которые часто являются мостами обмена информацией между другими парами людей. Определите наиболее опасного человека, которого нужно удалить по стратегии вашего конкурента.\n",
    "\n",
    "*Эта функция должна возвращать целое число - имя узла.*"
   ]
  },
  {
   "cell_type": "code",
   "execution_count": 44,
   "metadata": {},
   "outputs": [],
   "source": [
    "def answer_four():\n",
    "    return list(sorted([(y[0], y[1],) for y in cc(G1).items()], key=lambda x: -x[1]))[1][0]"
   ]
  },
  {
   "cell_type": "code",
   "execution_count": 45,
   "metadata": {},
   "outputs": [
    {
     "data": {
      "text/plain": [
       "333"
      ]
     },
     "execution_count": 45,
     "metadata": {},
     "output_type": "execute_result"
    }
   ],
   "source": [
    "# Проверьте Ваш код\n",
    "answer_four()"
   ]
  },
  {
   "cell_type": "markdown",
   "metadata": {},
   "source": [
    "### Ответ 4\n",
    "<img src=\"./pic/answ4.png\">"
   ]
  },
  {
   "cell_type": "markdown",
   "metadata": {},
   "source": [
    "## Часть 2\n",
    "\n",
    "`G2` - это направленная сеть политических блогов, где узлы соответствуют блогу, ребра - ссылкам между блогами. Используйте свои знания PageRank и HITS, чтобы ответить на вопросы 5-9."
   ]
  },
  {
   "cell_type": "code",
   "execution_count": 3,
   "metadata": {},
   "outputs": [],
   "source": [
    "G2 = nx.read_gml('blogs.gml')"
   ]
  },
  {
   "cell_type": "markdown",
   "metadata": {},
   "source": [
    "## Задание 5"
   ]
  },
  {
   "cell_type": "markdown",
   "metadata": {},
   "source": [
    "Найдите Page Rank узла 'realclearpolitics.com' со значением демпфирования 0,85.\n",
    "\n",
    "*Эта функция должна возвращать число с плавающей точкой.*"
   ]
  },
  {
   "cell_type": "code",
   "execution_count": 5,
   "metadata": {},
   "outputs": [],
   "source": [
    "from networkx.algorithms.link_analysis.pagerank_alg import pagerank"
   ]
  },
  {
   "cell_type": "code",
   "execution_count": 9,
   "metadata": {},
   "outputs": [],
   "source": [
    "def answer_five():\n",
    "    return pagerank(G2, 0.85)['realclearpolitics.com']"
   ]
  },
  {
   "cell_type": "code",
   "execution_count": 10,
   "metadata": {},
   "outputs": [
    {
     "data": {
      "text/plain": [
       "0.004636694781649094"
      ]
     },
     "execution_count": 10,
     "metadata": {},
     "output_type": "execute_result"
    }
   ],
   "source": [
    "# Проверьте Ваш код\n",
    "answer_five()"
   ]
  },
  {
   "cell_type": "markdown",
   "metadata": {},
   "source": [
    "### Ответ 5\n",
    "<img src=\"./pic/answ5.png\">"
   ]
  },
  {
   "cell_type": "markdown",
   "metadata": {},
   "source": [
    "## Задание 6"
   ]
  },
  {
   "cell_type": "markdown",
   "metadata": {},
   "source": [
    "Примените алгоритм масштабирования Page Scaled к этой сети со значением демпфирования 0,85. Найдите 5 узлов с самым высоким Page Rank.\n",
    "\n",
    "*Эта функция должна возвращать список из 5 лучших блогов в порядке убывания рейтинга страницы.*"
   ]
  },
  {
   "cell_type": "code",
   "execution_count": 15,
   "metadata": {},
   "outputs": [],
   "source": [
    "def answer_six():\n",
    "    return [x[0] for x in sorted([(name, val,) for name, val in pagerank(G2, 0.85).items()], key=lambda x: -x[1])][:5]"
   ]
  },
  {
   "cell_type": "code",
   "execution_count": 16,
   "metadata": {},
   "outputs": [
    {
     "data": {
      "text/plain": [
       "['dailykos.com',\n",
       " 'atrios.blogspot.com',\n",
       " 'instapundit.com',\n",
       " 'blogsforbush.com',\n",
       " 'talkingpointsmemo.com']"
      ]
     },
     "execution_count": 16,
     "metadata": {},
     "output_type": "execute_result"
    }
   ],
   "source": [
    "# Проверьте Ваш код\n",
    "answer_six()"
   ]
  },
  {
   "cell_type": "markdown",
   "metadata": {},
   "source": [
    "## Ответ 6\n",
    "<img src=\"./pic/answ6.png\">"
   ]
  },
  {
   "cell_type": "markdown",
   "metadata": {},
   "source": [
    "## Задание 7"
   ]
  },
  {
   "cell_type": "markdown",
   "metadata": {},
   "source": [
    "Примените алгоритм HITS к сети, чтобы найти значения центра и авторитетности узла 'realclearpolitics.com'.\n",
    "\n",
    "*Ваш результат должен возвращать кортеж с плавающей точкой `(hub_score, authority_score)`.*"
   ]
  },
  {
   "cell_type": "code",
   "execution_count": 17,
   "metadata": {},
   "outputs": [],
   "source": [
    "from networkx.algorithms.link_analysis.hits_alg import hits"
   ]
  },
  {
   "cell_type": "code",
   "execution_count": 23,
   "metadata": {},
   "outputs": [],
   "source": [
    "def answer_seven():\n",
    "    buff = hits(G2)\n",
    "    return (buff[0]['realclearpolitics.com'], buff[1]['realclearpolitics.com'],)"
   ]
  },
  {
   "cell_type": "code",
   "execution_count": 24,
   "metadata": {},
   "outputs": [
    {
     "data": {
      "text/plain": [
       "(0.0003243556140916672, 0.003918957645699851)"
      ]
     },
     "execution_count": 24,
     "metadata": {},
     "output_type": "execute_result"
    }
   ],
   "source": [
    "# Проверьте Ваш код\n",
    "answer_seven()"
   ]
  },
  {
   "cell_type": "markdown",
   "metadata": {},
   "source": [
    "## Ответ 7\n",
    "<img src=\"./pic/answ7.png\">"
   ]
  },
  {
   "cell_type": "markdown",
   "metadata": {},
   "source": [
    "## Задание 8"
   ]
  },
  {
   "cell_type": "markdown",
   "metadata": {},
   "source": [
    "Примените алгоритм HITS к этой сети, чтобы найти 5 узлов с наивысшими оценками хабов(hub scores).\n",
    "\n",
    "*Эта функция должна возвращать список из 5 лучших блогов в порядке убывания оценок хабов.*"
   ]
  },
  {
   "cell_type": "code",
   "execution_count": 28,
   "metadata": {},
   "outputs": [],
   "source": [
    "def answer_eight():\n",
    "    return [x[0] for x in sorted([(name, val,) for name, val in hits(G2)[0].items()], key=lambda x: -x[1])][:5]"
   ]
  },
  {
   "cell_type": "code",
   "execution_count": 29,
   "metadata": {},
   "outputs": [
    {
     "data": {
      "text/plain": [
       "['politicalstrategy.org',\n",
       " 'madkane.com/notable.html',\n",
       " 'liberaloasis.com',\n",
       " 'stagefour.typepad.com/commonprejudice',\n",
       " 'bodyandsoul.typepad.com']"
      ]
     },
     "execution_count": 29,
     "metadata": {},
     "output_type": "execute_result"
    }
   ],
   "source": [
    "# Проверьте Ваш код\n",
    "answer_eight()"
   ]
  },
  {
   "cell_type": "markdown",
   "metadata": {},
   "source": [
    "## Ответ 8\n",
    "<img src=\"./pic/answ8.png\">"
   ]
  },
  {
   "cell_type": "markdown",
   "metadata": {},
   "source": [
    "## Задание 9"
   ]
  },
  {
   "cell_type": "markdown",
   "metadata": {},
   "source": [
    "Примените алгоритм HITS к этой сети, чтобы найти 5 узлов с наивысшими оценками авторитета (*authority scores*).\n",
    "\n",
    "*Эта функция должна возвращать список 5 лучших блогов в порядке убывания авторитетных оценок.*"
   ]
  },
  {
   "cell_type": "code",
   "execution_count": 30,
   "metadata": {},
   "outputs": [],
   "source": [
    "def answer_nine():\n",
    "    return [x[0] for x in sorted([(name, val,) for name, val in hits(G2)[1].items()], key=lambda x: -x[1])][:5]"
   ]
  },
  {
   "cell_type": "code",
   "execution_count": 31,
   "metadata": {},
   "outputs": [
    {
     "data": {
      "text/plain": [
       "['dailykos.com',\n",
       " 'talkingpointsmemo.com',\n",
       " 'atrios.blogspot.com',\n",
       " 'washingtonmonthly.com',\n",
       " 'talkleft.com']"
      ]
     },
     "execution_count": 31,
     "metadata": {},
     "output_type": "execute_result"
    }
   ],
   "source": [
    "# Проверьте Ваш код\n",
    "answer_nine()"
   ]
  },
  {
   "cell_type": "markdown",
   "metadata": {},
   "source": [
    "## Ответ 9\n",
    "<img src=\"./pic/answ9.png\">"
   ]
  }
 ],
 "metadata": {
  "kernelspec": {
   "display_name": "Python 3",
   "language": "python",
   "name": "python3"
  },
  "language_info": {
   "codemirror_mode": {
    "name": "ipython",
    "version": 3
   },
   "file_extension": ".py",
   "mimetype": "text/x-python",
   "name": "python",
   "nbconvert_exporter": "python",
   "pygments_lexer": "ipython3",
   "version": "3.8.2"
  }
 },
 "nbformat": 4,
 "nbformat_minor": 2
}
